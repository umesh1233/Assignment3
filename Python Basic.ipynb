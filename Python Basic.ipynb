{
 "cells": [
  {
   "cell_type": "code",
   "execution_count": null,
   "id": "6ac516c3-be96-4fcb-ad59-309fa11c2086",
   "metadata": {},
   "outputs": [],
   "source": [
    "Q.1\n",
    "Ans:-"
   ]
  },
  {
   "cell_type": "code",
   "execution_count": 2,
   "id": "49d8994d-e991-482f-9fd5-c5fb4e9a963c",
   "metadata": {},
   "outputs": [
    {
     "name": "stdin",
     "output_type": "stream",
     "text": [
      "enter yuor marks  90\n"
     ]
    },
    {
     "name": "stdout",
     "output_type": "stream",
     "text": [
      " A Grade\n"
     ]
    }
   ],
   "source": [
    "marks = int(input(\"enter yuor marks \"))\n",
    "if marks >= 90 :\n",
    "    print(\" A Grade\")\n",
    "elif marks >= 80 and marks <= 90 :\n",
    "    print (\" B Grade\")\n",
    "elif marks >= 60 and marks <= 80 :\n",
    "    print(\" C Grade\")\n",
    "else :\n",
    "    print(\" D Grade\")"
   ]
  },
  {
   "cell_type": "code",
   "execution_count": 28,
   "id": "8617b03c-6d83-42ce-97f5-971afe01ee6b",
   "metadata": {},
   "outputs": [
    {
     "name": "stdin",
     "output_type": "stream",
     "text": [
      "entr price 1000\n"
     ]
    },
    {
     "name": "stdout",
     "output_type": "stream",
     "text": [
      " Tax to paid 50.0\n"
     ]
    }
   ],
   "source": [
    "#Q.2\n",
    "tax = 0\n",
    "price = int(input(\"entr price\"))\n",
    "if price > 100000 :\n",
    "    tax = 15/100*price\n",
    "elif price > 50000 and price <= 100000:\n",
    "     tax = 10/100*price\n",
    "else:\n",
    "    tax = 5/100*price\n",
    "print(\" Tax to paid\",tax)"
   ]
  },
  {
   "cell_type": "code",
   "execution_count": 32,
   "id": "780dde50-a4d2-43ff-ba7d-a4ef390d9358",
   "metadata": {},
   "outputs": [
    {
     "name": "stdin",
     "output_type": "stream",
     "text": [
      "enter city name delhi\n"
     ]
    },
    {
     "name": "stdout",
     "output_type": "stream",
     "text": [
      " Monument name is:Red Fort\n"
     ]
    }
   ],
   "source": [
    "#Q.3\n",
    "city = input(\"enter city name\")\n",
    "if  city.lower()==\"delhi\":\n",
    "    print(\" Monument name is:Red Fort\")\n",
    "elif city.lower()==\"agra\":\n",
    "         print(\" Monument name is:Taj Mahal\")\n",
    "elif city.lower()==\"jaipur\":\n",
    "     print(\" Monument name is: Jai Mahal \")\n",
    "else:\n",
    "    print (\"Enter correct name of city\")"
   ]
  },
  {
   "cell_type": "code",
   "execution_count": 3,
   "id": "c479ffa5-1798-4be7-a0a0-e21282fca9cc",
   "metadata": {},
   "outputs": [
    {
     "name": "stdout",
     "output_type": "stream",
     "text": [
      "0\n",
      "3\n",
      "6\n",
      "9\n"
     ]
    }
   ],
   "source": [
    "#Q.4\n",
    "for i in range(10):\n",
    "    if i%3 == 0 :\n",
    "        print(i)"
   ]
  },
  {
   "cell_type": "code",
   "execution_count": null,
   "id": "a9d34154-42c1-4b4f-8e09-1c0c03e9be3d",
   "metadata": {},
   "outputs": [],
   "source": [
    "#Q.5\n",
    "In python while loop is used to run a block code until a certain condition is met.  \n",
    "If the condition evaluates to True , the code inside the while loop is executed."
   ]
  },
  {
   "cell_type": "code",
   "execution_count": 2,
   "id": "9314b506-23fc-42da-ab8e-1ff1f724918a",
   "metadata": {},
   "outputs": [
    {
     "name": "stdout",
     "output_type": "stream",
     "text": [
      "1\n",
      "2\n",
      "3\n",
      "4\n",
      "this will be executed once your while will complete it succesfully\n"
     ]
    }
   ],
   "source": [
    "n = 5\n",
    "i = 1\n",
    "while i < n :\n",
    "    print(i)\n",
    "    i = i+1\n",
    "else:\n",
    "    print(\"this will be executed once your while will complete it succesfully\")"
   ]
  },
  {
   "cell_type": "code",
   "execution_count": 3,
   "id": "69593b03-0d48-4051-9b02-4d2355d8cd47",
   "metadata": {},
   "outputs": [
    {
     "name": "stdout",
     "output_type": "stream",
     "text": [
      "0 1 2 3 \n",
      "0 2 4 6 \n",
      "0 3 6 9 \n",
      "0 4 8 12 \n"
     ]
    }
   ],
   "source": [
    "#Q.6\n",
    "i = 1\n",
    "while i <= 4 :\n",
    "    j = 0\n",
    "    while  j <= 3 :\n",
    "        print(i*j, end=\" \")\n",
    "        j += 1\n",
    "    print()\n",
    "    i += 1"
   ]
  },
  {
   "cell_type": "code",
   "execution_count": 4,
   "id": "0103ef03-8437-4d8b-94a1-60ee87cac1c4",
   "metadata": {},
   "outputs": [
    {
     "name": "stdout",
     "output_type": "stream",
     "text": [
      "1\n",
      "2\n",
      "3\n"
     ]
    }
   ],
   "source": [
    "n = 5\n",
    "i = 1\n",
    "while i < n :\n",
    "    print(i)\n",
    "    if i == 3 :\n",
    "        break\n",
    "    i = i+1"
   ]
  },
  {
   "cell_type": "code",
   "execution_count": 5,
   "id": "6937380c-e636-494f-8db7-8d5628502c5a",
   "metadata": {},
   "outputs": [
    {
     "name": "stdout",
     "output_type": "stream",
     "text": [
      "1\n",
      "2\n",
      "3\n",
      "4\n",
      "5\n",
      "6\n",
      "7\n",
      "8\n",
      "9\n",
      "10\n"
     ]
    }
   ],
   "source": [
    "a = 1\n",
    "while a <= 10:\n",
    "    print(a)\n",
    "    a = a +1"
   ]
  },
  {
   "cell_type": "code",
   "execution_count": 1,
   "id": "77ef9207-1731-4c02-a429-7f941c042f28",
   "metadata": {},
   "outputs": [
    {
     "name": "stdout",
     "output_type": "stream",
     "text": [
      "10\n",
      "9\n",
      "8\n",
      "7\n",
      "6\n",
      "5\n",
      "4\n",
      "3\n",
      "2\n",
      "1\n"
     ]
    }
   ],
   "source": [
    "#Q.7\n",
    "#Ans:-\n",
    "i = 10\n",
    "while i > 0 :\n",
    "    print(i)\n",
    "    i = i - 1\n"
   ]
  },
  {
   "cell_type": "code",
   "execution_count": null,
   "id": "a90ca4b0-b5ec-4a51-90ac-0c212af22e3a",
   "metadata": {},
   "outputs": [],
   "source": []
  }
 ],
 "metadata": {
  "kernelspec": {
   "display_name": "Python 3 (ipykernel)",
   "language": "python",
   "name": "python3"
  },
  "language_info": {
   "codemirror_mode": {
    "name": "ipython",
    "version": 3
   },
   "file_extension": ".py",
   "mimetype": "text/x-python",
   "name": "python",
   "nbconvert_exporter": "python",
   "pygments_lexer": "ipython3",
   "version": "3.10.8"
  }
 },
 "nbformat": 4,
 "nbformat_minor": 5
}
